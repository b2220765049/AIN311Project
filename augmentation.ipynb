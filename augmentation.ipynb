{
 "cells": [
  {
   "cell_type": "code",
   "execution_count": 26,
   "metadata": {},
   "outputs": [],
   "source": [
    "import os\n",
    "import cv2\n",
    "import PIL\n",
    "import matplotlib.pyplot as plt\n",
    "import random\n",
    "import numpy as np"
   ]
  },
  {
   "cell_type": "code",
   "execution_count": 27,
   "metadata": {},
   "outputs": [],
   "source": [
    "augmentation_dir='non-recycle'\n",
    "save_dir='augmented_images'\n",
    "number_of_patches_per_image=2\n",
    "Blur=True\n",
    "Rotate=True"
   ]
  },
  {
   "cell_type": "code",
   "execution_count": 28,
   "metadata": {},
   "outputs": [],
   "source": [
    "for image_name in os.listdir(augmentation_dir):\n",
    "    #read and resize image\n",
    "    image=cv2.imread(os.path.join(augmentation_dir,image_name))\n",
    "    image=cv2.resize(image,(256,256))\n",
    "    \n",
    "    #create patches\n",
    "    for patch_number in range(number_of_patches_per_image):\n",
    "        x_min=random.randint(0,256-223)\n",
    "        y_min=random.randint(0,256-223)\n",
    "\n",
    "        patch=image[y_min:y_min+224,x_min:x_min+224]\n",
    "\n",
    "        #Save Patch\n",
    "        patch_name=f'{patch_number}_{image_name}'\n",
    "        cv2.imwrite(os.path.join(save_dir,patch_name),patch)\n",
    "        #Save Blur Image\n",
    "        if Blur:\n",
    "            blurred_patch= cv2.GaussianBlur(patch,(3,3), 1)\n",
    "            blurred_patch_name='blur_'+patch_name\n",
    "            cv2.imwrite(os.path.join(save_dir,blurred_patch_name),blurred_patch)\n",
    "\n",
    "        #Save Rotated Images\n",
    "        if Rotate:\n",
    "            for rotation_angle in [90,180,270]:\n",
    "                rotated_patch = np.rot90(random.choice([patch,blurred_patch]), k=rotation_angle // 90)\n",
    "                rotated_patch_name=f'{rotation_angle}_'+patch_name\n",
    "                cv2.imwrite(os.path.join(save_dir,rotated_patch_name),rotated_patch)"
   ]
  }
 ],
 "metadata": {
  "kernelspec": {
   "display_name": "forgery_detection2",
   "language": "python",
   "name": "python3"
  },
  "language_info": {
   "codemirror_mode": {
    "name": "ipython",
    "version": 3
   },
   "file_extension": ".py",
   "mimetype": "text/x-python",
   "name": "python",
   "nbconvert_exporter": "python",
   "pygments_lexer": "ipython3",
   "version": "3.9.18"
  }
 },
 "nbformat": 4,
 "nbformat_minor": 2
}
